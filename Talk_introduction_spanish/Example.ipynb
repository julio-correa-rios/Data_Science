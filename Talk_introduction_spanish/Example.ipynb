{
  "nbformat": 4,
  "nbformat_minor": 0,
  "metadata": {
    "colab": {
      "name": "Example.ipynb",
      "provenance": []
    },
    "kernelspec": {
      "name": "python3",
      "display_name": "Python 3"
    },
    "language_info": {
      "name": "python"
    }
  },
  "cells": [
    {
      "cell_type": "markdown",
      "metadata": {
        "id": "MkPa3itNoMkn"
      },
      "source": [
        "#1. Importamos librerías y seteamos el entorno"
      ]
    },
    {
      "cell_type": "code",
      "metadata": {
        "colab": {
          "base_uri": "https://localhost:8080/"
        },
        "id": "CcrtiqCqkpJO",
        "outputId": "fe9afd8c-79f7-4ab3-91af-f7748db09028"
      },
      "source": [
        "import numpy as np\n",
        "import pandas as pd\n",
        "import matplotlib.pyplot as plt\n",
        "from sklearn.neighbors import KNeighborsClassifier\n",
        "\n",
        "from google.colab import drive\n",
        "drive.mount('/drive/')"
      ],
      "execution_count": 1,
      "outputs": [
        {
          "output_type": "stream",
          "text": [
            "Mounted at /drive/\n"
          ],
          "name": "stdout"
        }
      ]
    },
    {
      "cell_type": "code",
      "metadata": {
        "id": "7hZZqVmsmyt-"
      },
      "source": [
        "import warnings\n",
        "warnings.filterwarnings('ignore')"
      ],
      "execution_count": 2,
      "outputs": []
    },
    {
      "cell_type": "markdown",
      "metadata": {
        "id": "hZXexePXy0Ns"
      },
      "source": [
        "#2. Ejemplo de KNN"
      ]
    },
    {
      "cell_type": "code",
      "metadata": {
        "colab": {
          "base_uri": "https://localhost:8080/"
        },
        "id": "0rpGqaBumy8R",
        "outputId": "a93ac694-7c9e-47e2-f4f1-0caba6f1f535"
      },
      "source": [
        "X = np.asarray(([2,1,3,5,3,10,9,5,8,11,15,13,16],[1,0,3,5,2,12,11,10,7,9,11,15,16])).T\n",
        "y = np.asarray([0,0,0,0,0,1,1,1,1,1,2,2,2])[:,np.newaxis]\n",
        "\n",
        "print('X=\\n',X)\n",
        "print('y=\\n',y)"
      ],
      "execution_count": 3,
      "outputs": [
        {
          "output_type": "stream",
          "text": [
            "X=\n",
            " [[ 2  1]\n",
            " [ 1  0]\n",
            " [ 3  3]\n",
            " [ 5  5]\n",
            " [ 3  2]\n",
            " [10 12]\n",
            " [ 9 11]\n",
            " [ 5 10]\n",
            " [ 8  7]\n",
            " [11  9]\n",
            " [15 11]\n",
            " [13 15]\n",
            " [16 16]]\n",
            "y=\n",
            " [[0]\n",
            " [0]\n",
            " [0]\n",
            " [0]\n",
            " [0]\n",
            " [1]\n",
            " [1]\n",
            " [1]\n",
            " [1]\n",
            " [1]\n",
            " [2]\n",
            " [2]\n",
            " [2]]\n"
          ],
          "name": "stdout"
        }
      ]
    },
    {
      "cell_type": "code",
      "metadata": {
        "colab": {
          "base_uri": "https://localhost:8080/",
          "height": 265
        },
        "id": "R-kRKfMbmy_R",
        "outputId": "b9683b41-a795-40d1-c96a-1fd00133b3dc"
      },
      "source": [
        "N = len(y)\n",
        "\n",
        "X_class = np.asarray(([4.5],[5])).T #punto de consulta\n",
        "\n",
        "pos_class0 = np.where(y==0)[0] #puntos de la clase 0 \n",
        "pos_class1 = np.where(y==1)[0] #puntos de la clase 1\n",
        "pos_class2 = np.where(y==2)[0] #puntos de la clase 2\n",
        "\n",
        "plt.scatter(X[pos_class0,0], X[pos_class0,1], color='r', edgecolor='') #class0 = 0\n",
        "plt.scatter(X[pos_class1,0], X[pos_class1,1], color='g', edgecolor='') #class1 = 1\n",
        "plt.scatter(X[pos_class2,0], X[pos_class2,1], color='b', edgecolor='') #class2 = 2\n",
        "plt.scatter(X_class[:,0], X_class[:,1], marker='*', s=100, c='k') #Clases a determinar\n",
        "\n",
        "for i in range(N): \n",
        "    plt.scatter(X[i,0]+0.3, X[i,1]-0.5, s=40, marker=\"$ {} $\".format(i)) #posiciones"
      ],
      "execution_count": 4,
      "outputs": [
        {
          "output_type": "display_data",
          "data": {
            "image/png": "[encoded data removed]",
            "text/plain": [
              "<Figure size 432x288 with 1 Axes>"
            ]
          },
          "metadata": {
            "tags": [],
            "needs_background": "light"
          }
        }
      ]
    },
    {
      "cell_type": "code",
      "metadata": {
        "colab": {
          "base_uri": "https://localhost:8080/"
        },
        "id": "u6v5_hmWmzCa",
        "outputId": "e8f6af88-2e77-42f2-8ea9-16077176d186"
      },
      "source": [
        "#1. Generamos una instancia del clasificador KNN usando sklearn\n",
        "number_neighs = 3\n",
        "neighs = KNeighborsClassifier(n_neighbors=number_neighs)\n",
        "\n",
        "# 2. Hacemos el fit entre la data X y las etiquetas\n",
        "neighs.fit(X, y)\n",
        "\n",
        "# 3. Clasificamos el punto X_q\n",
        "print(\"El punto {} pertenece a la clase {} con {} vecinos cercanos\".format(X_class, int(neighs.predict(X_class)),number_neighs))\n"
      ],
      "execution_count": 16,
      "outputs": [
        {
          "output_type": "stream",
          "text": [
            "El punto [[4.5 5. ]] pertenece a la clase 0 con 3 vecinos cercanos\n"
          ],
          "name": "stdout"
        }
      ]
    },
    {
      "cell_type": "code",
      "metadata": {
        "colab": {
          "base_uri": "https://localhost:8080/"
        },
        "id": "Cm8co1IcplxL",
        "outputId": "798d1870-ac0f-43ec-8a3e-fc14954d86d8"
      },
      "source": [
        "print(\"Las probabilidades de pertenecer a cada grupo son {}\".format(neighs.predict_proba(X_class)))"
      ],
      "execution_count": 17,
      "outputs": [
        {
          "output_type": "stream",
          "text": [
            "Las probabilidades de pertenecer a cada grupo son [[1. 0. 0.]]\n"
          ],
          "name": "stdout"
        }
      ]
    },
    {
      "cell_type": "code",
      "metadata": {
        "colab": {
          "base_uri": "https://localhost:8080/"
        },
        "id": "eHqEBo4WpxXW",
        "outputId": "951eedc4-04f4-40c6-d571-50be28c19061"
      },
      "source": [
        "neighs.kneighbors(X_class, return_distance=True)"
      ],
      "execution_count": 19,
      "outputs": [
        {
          "output_type": "execute_result",
          "data": {
            "text/plain": [
              "(array([[0.5       , 2.5       , 3.35410197]]), array([[3, 2, 4]]))"
            ]
          },
          "metadata": {
            "tags": []
          },
          "execution_count": 19
        }
      ]
    },
    {
      "cell_type": "markdown",
      "metadata": {
        "id": "aJLfpU3S2Le4"
      },
      "source": [
        "**Clasificando un data set**"
      ]
    },
    {
      "cell_type": "code",
      "metadata": {
        "colab": {
          "base_uri": "https://localhost:8080/"
        },
        "id": "edsLw12iuPtr",
        "outputId": "01780f67-c4e1-41fc-fa23-85bd679460d0"
      },
      "source": [
        "# 1. Definimos nuestro dataset para clasificar\n",
        "X_test = np.asarray(([3,5,9,11,16],[1,2,9,8,14])).T\n",
        "y_test = np.asarray([0,0,0,1,2])[:,np.newaxis]\n",
        "\n",
        "# 2. Imprimimos el dataset\n",
        "print('X_test=\\n',X_test)\n",
        "print('y_test=\\n',y_test)"
      ],
      "execution_count": 20,
      "outputs": [
        {
          "output_type": "stream",
          "text": [
            "X_test=\n",
            " [[ 3  1]\n",
            " [ 5  2]\n",
            " [ 9  9]\n",
            " [11  8]\n",
            " [16 14]]\n",
            "y_test=\n",
            " [[0]\n",
            " [0]\n",
            " [0]\n",
            " [1]\n",
            " [2]]\n"
          ],
          "name": "stdout"
        }
      ]
    },
    {
      "cell_type": "code",
      "metadata": {
        "id": "6leuF7i2zBUD"
      },
      "source": [
        "out_class = neighs.predict(X_test)"
      ],
      "execution_count": 21,
      "outputs": []
    },
    {
      "cell_type": "code",
      "metadata": {
        "id": "0R2ZCdiozD0A"
      },
      "source": [
        "from sklearn.metrics import confusion_matrix\n",
        "confusion_knn = pd.DataFrame(confusion_matrix(y_test, out_class))"
      ],
      "execution_count": 22,
      "outputs": []
    },
    {
      "cell_type": "code",
      "metadata": {
        "colab": {
          "base_uri": "https://localhost:8080/",
          "height": 142
        },
        "id": "LEXk-IX_4BXQ",
        "outputId": "29f28718-3dea-4ffc-df8e-823bcd80e044"
      },
      "source": [
        "confusion_knn"
      ],
      "execution_count": 23,
      "outputs": [
        {
          "output_type": "execute_result",
          "data": {
            "text/html": [
              "<div>\n",
              "<style scoped>\n",
              "    .dataframe tbody tr th:only-of-type {\n",
              "        vertical-align: middle;\n",
              "    }\n",
              "\n",
              "    .dataframe tbody tr th {\n",
              "        vertical-align: top;\n",
              "    }\n",
              "\n",
              "    .dataframe thead th {\n",
              "        text-align: right;\n",
              "    }\n",
              "</style>\n",
              "<table border=\"1\" class=\"dataframe\">\n",
              "  <thead>\n",
              "    <tr style=\"text-align: right;\">\n",
              "      <th></th>\n",
              "      <th>0</th>\n",
              "      <th>1</th>\n",
              "      <th>2</th>\n",
              "    </tr>\n",
              "  </thead>\n",
              "  <tbody>\n",
              "    <tr>\n",
              "      <th>0</th>\n",
              "      <td>2</td>\n",
              "      <td>1</td>\n",
              "      <td>0</td>\n",
              "    </tr>\n",
              "    <tr>\n",
              "      <th>1</th>\n",
              "      <td>0</td>\n",
              "      <td>1</td>\n",
              "      <td>0</td>\n",
              "    </tr>\n",
              "    <tr>\n",
              "      <th>2</th>\n",
              "      <td>0</td>\n",
              "      <td>0</td>\n",
              "      <td>1</td>\n",
              "    </tr>\n",
              "  </tbody>\n",
              "</table>\n",
              "</div>"
            ],
            "text/plain": [
              "   0  1  2\n",
              "0  2  1  0\n",
              "1  0  1  0\n",
              "2  0  0  1"
            ]
          },
          "metadata": {
            "tags": []
          },
          "execution_count": 23
        }
      ]
    },
    {
      "cell_type": "code",
      "metadata": {
        "colab": {
          "base_uri": "https://localhost:8080/",
          "height": 286
        },
        "id": "DpQaiD-yIZx_",
        "outputId": "07d10edb-f98c-410b-c4c9-134677a1fe6b"
      },
      "source": [
        "import seaborn as sns\n",
        "fig_dims = (2, 2)\n",
        "sns.heatmap(confusion_knn, annot=True, cmap='Blues')"
      ],
      "execution_count": 24,
      "outputs": [
        {
          "output_type": "execute_result",
          "data": {
            "text/plain": [
              "<matplotlib.axes._subplots.AxesSubplot at 0x7f85051c9590>"
            ]
          },
          "metadata": {
            "tags": []
          },
          "execution_count": 24
        },
        {
          "output_type": "display_data",
          "data": {
            "image/png": "[encoded data removed]",
            "text/plain": [
              "<Figure size 432x288 with 2 Axes>"
            ]
          },
          "metadata": {
            "tags": [],
            "needs_background": "light"
          }
        }
      ]
    },
    {
      "cell_type": "markdown",
      "metadata": {
        "id": "-eodBpV_JQaP"
      },
      "source": [
        "#3. Naive Bayes"
      ]
    },
    {
      "cell_type": "code",
      "metadata": {
        "id": "zwtePktOJTn6"
      },
      "source": [
        "from sklearn.naive_bayes import GaussianNB"
      ],
      "execution_count": 25,
      "outputs": []
    },
    {
      "cell_type": "code",
      "metadata": {
        "id": "77vhDfFxJUM8"
      },
      "source": [
        "gnb = GaussianNB()\n",
        "y_pred = gnb.fit(X, y).predict(X_test)"
      ],
      "execution_count": 26,
      "outputs": []
    },
    {
      "cell_type": "code",
      "metadata": {
        "colab": {
          "base_uri": "https://localhost:8080/"
        },
        "id": "_YCfANeFJUKU",
        "outputId": "85c6f8a5-7c53-4d84-8de8-8ee0c194eb7f"
      },
      "source": [
        " print(\"Number of mislabeled points out of a total %d points: %d\"% (X_test.shape[0], (y_test != y_pred.reshape(5,1)).sum()))"
      ],
      "execution_count": 27,
      "outputs": [
        {
          "output_type": "stream",
          "text": [
            "Number of mislabeled points out of a total 5 points: 1\n"
          ],
          "name": "stdout"
        }
      ]
    }
  ]
}